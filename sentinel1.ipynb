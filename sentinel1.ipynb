{
 "cells": [
  {
   "cell_type": "markdown",
   "id": "b6ee700d-ae53-4116-8631-7ea6db2f461d",
   "metadata": {},
   "source": [
    "# A guide to produce analysis-ready data"
   ]
  },
  {
   "cell_type": "markdown",
   "id": "a3fea792-eb9b-4ec8-9833-1b36da1cf21e",
   "metadata": {},
   "source": [
    "## 1. Load Python modules"
   ]
  },
  {
   "cell_type": "code",
   "execution_count": null,
   "id": "22451213-0f3c-4165-96aa-eec5810be2ce",
   "metadata": {},
   "outputs": [],
   "source": [
    "# MODULE                                # DESCRIPTION\n",
    "import matplotlib.colors as colors      # create visualizations\n",
    "import matplotlib.image as mpimg        # create visualizations\n",
    "import matplotlib.pyplot as plt         # create visualizations\n",
    "from termcolor import colored           # prints colored text\n",
    "from zipfile import ZipFile             # zip file manipulation\n",
    "from os.path import join                # data access in file manager  \n",
    "from glob import iglob                  # data access in file manager\n",
    "import pandas as pd                     # data analysis and manipulation\n",
    "import numpy as np                      # scientific computing\n",
    "import subprocess                       # external calls to system\n",
    "import snappy                           # SNAP python interface\n",
    "import jpy                              # Python-Java bridge\n",
    "\n",
    "# Change module setting\n",
    "pd.options.display.max_colwidth = 80    # Longer text in pd.df"
   ]
  },
  {
   "cell_type": "markdown",
   "id": "860e6538-ec3b-408c-8a22-3f476e2fa305",
   "metadata": {},
   "source": [
    "## 2. Download Sentinel-1 data "
   ]
  },
  {
   "cell_type": "code",
   "execution_count": null,
   "id": "e8ef6dc6-c26b-4852-a4d8-409eacabc95b",
   "metadata": {},
   "outputs": [],
   "source": [
    "from sentinelsat import SentinelAPI\n",
    "\n",
    "user = 'username' \n",
    "password = 'password' \n",
    "api = SentinelAPI(user, password, 'https://scihub.copernicus.eu/dhus')"
   ]
  },
  {
   "cell_type": "code",
   "execution_count": null,
   "id": "beab08ba-da98-4ca3-9d8d-767b114c5415",
   "metadata": {},
   "outputs": [],
   "source": [
    "import geopandas as gpd\n",
    "import folium \n",
    "\n",
    "AOI = gpd.read_file('AOI_name.shp')\n",
    "\n",
    "m = folium.Map([lat, lon], zoom_start=12)\n",
    "folium.GeoJson(AOI).add_to(m)\n",
    "m"
   ]
  },
  {
   "cell_type": "code",
   "execution_count": null,
   "id": "c0ebc0de-2a46-4a46-afb9-5ee4b00cb4a3",
   "metadata": {},
   "outputs": [],
   "source": [
    "from shapely.geometry import MultiPolygon, Polygon\n",
    "\n",
    "footprint = None\n",
    "for i in AOI['geometry']:\n",
    "    footprint = i"
   ]
  },
  {
   "cell_type": "code",
   "execution_count": null,
   "id": "9c53d109-0117-461e-aadd-a16e032e9516",
   "metadata": {},
   "outputs": [],
   "source": [
    "products = api.query(footprint,\n",
    "                     date = ('20210601', '20210605'),\n",
    "                     platformname = 'Sentinel-1',\n",
    "                     producttype = 'GRD',\n",
    "                     )"
   ]
  },
  {
   "cell_type": "code",
   "execution_count": null,
   "id": "30606558-3d6d-4bcd-a5ce-cecfa98ff7fc",
   "metadata": {},
   "outputs": [],
   "source": [
    "products_gdf = api.to_geodataframe(products)\n",
    "products_gdf"
   ]
  },
  {
   "cell_type": "code",
   "execution_count": null,
   "id": "d3e82ce6-6aa2-400f-a6e4-7abb01133514",
   "metadata": {},
   "outputs": [],
   "source": [
    "api.download(\"f0610c38-1845-4bdd-a0b0-626658f30c01\")"
   ]
  },
  {
   "cell_type": "markdown",
   "id": "05bd98da-0b30-4ad7-ba68-1bf6c5085036",
   "metadata": {},
   "source": [
    "## 3. Sentinel-1 Preprocessing: snappy\n",
    "#### User-defined function"
   ]
  },
  {
   "cell_type": "code",
   "execution_count": null,
   "id": "fa6558a5-ca1d-47b0-a502-f53f418bff18",
   "metadata": {},
   "outputs": [],
   "source": [
    "def output_view(product, band, min_value_VV, max_value_VV, min_value_VH, max_value_VH):\n",
    "    '''\n",
    "    Creates visualization of processed Sentinel-1 SAR data\n",
    "    \n",
    "    Keyword arguments:\n",
    "    product       -- snappy GPF product --> input Sentinel-1 product \n",
    "    band          -- List --> product's band to be visualized\n",
    "    min_value_VV  -- int --> min value for color strech in VV band\n",
    "    max_value_VV  -- int --> max value for color strech in VV band\n",
    "    min_value_VH  -- int --> max value for color strech in VH band\n",
    "    max_value_VV  -- int --> max value for color strech in VH band\n",
    "    '''\n",
    "    band_data_list = []\n",
    "    \n",
    "    for i in band:   \n",
    "        band = product.getBand(i)\n",
    "        w = band.getRasterWidth()\n",
    "        h = band.getRasterHeight()\n",
    "        band_data = np.zeros(w * h, np.float32)\n",
    "        band.readPixels(0, 0, w, h, band_data)\n",
    "        band_data.shape = h, w\n",
    "        band_data_list.append(band_data)\n",
    "    \n",
    "    fig, (ax1,ax2) = plt.subplots(1,2, figsize=(16,16))\n",
    "    ax1.imshow(band_data_list[0], cmap='gray', vmin=min_value_VV , vmax=max_value_VV)\n",
    "    ax1.set_title(output_bands[0])\n",
    "    ax2.imshow(band_data_list[1], cmap='gray', vmin=min_value_VH , vmax=max_value_VH)\n",
    "    ax2.set_title(output_bands[1])\n",
    "    \n",
    "    for ax in fig.get_axes():\n",
    "        ax.label_outer()"
   ]
  },
  {
   "cell_type": "markdown",
   "id": "24a0d3c5-bd35-4e52-a9b5-ac136af3c97b",
   "metadata": {
    "tags": []
   },
   "source": [
    "\n",
    "The easiest way to know which operators are available in snappy is to call gpt -h from command line, which will output the list. If you want to access the documentation of a specific operator, use gpt -h *Operator*"
   ]
  },
  {
   "cell_type": "code",
   "execution_count": null,
   "id": "80756a5a-cec7-4311-b16f-08c19cfc2c5f",
   "metadata": {},
   "outputs": [],
   "source": [
    "# Call gpt -h from command line \n",
    "print(subprocess.Popen(['gpt','-h', 'Subset'], stdout=subprocess.PIPE, universal_newlines=True).communicate()[0])"
   ]
  },
  {
   "cell_type": "markdown",
   "id": "0e64a40f-931a-4ec1-8948-93cd1692b847",
   "metadata": {},
   "source": [
    "\n",
    "<center><img src=Processing_S_1_graph.png width=\"1400\"/></center>\n"
   ]
  },
  {
   "cell_type": "markdown",
   "id": "41367019-a1c9-452d-aa5c-1530bc5320e6",
   "metadata": {},
   "source": [
    "## 3.1 Read product"
   ]
  },
  {
   "cell_type": "markdown",
   "id": "83073e2b-3e01-4c36-b2eb-5504361a574f",
   "metadata": {},
   "source": [
    "We start the analysis by setting the folder where the files we want to processed are located. Next, one of the files wil be used as input for this exercise and will be imported with `snappy`. In addition, a quicklook availalbe in the origianl data folder is displayed. "
   ]
  },
  {
   "cell_type": "code",
   "execution_count": null,
   "id": "16aa3e58-102d-4dba-91d3-a06b11abe18d",
   "metadata": {},
   "outputs": [],
   "source": [
    "# Set target folder and extract metadata\n",
    "product_path = \"/Users/..../original_data\"\n",
    "input_S1_files = sorted(list(iglob(join(product_path, '**', '*S1*.zip'), recursive=True)))\n",
    "\n",
    "name, sensing_mode, product_type, polarization, height, width, band_names = ([] for i in range(7))\n",
    "\n",
    "for i in input_S1_files:\n",
    "    sensing_mode.append(i.split(\"_\")[3])\n",
    "    product_type.append(i.split(\"_\")[4])\n",
    "    polarization.append(i.split(\"_\")[-6])\n",
    "    # Read with snappy\n",
    "    s1_read = snappy.ProductIO.readProduct(i)  \n",
    "    name.append(s1_read.getName())\n",
    "    height.append(s1_read.getSceneRasterHeight())\n",
    "    width.append(s1_read.getSceneRasterWidth())\n",
    "    band_names.append(s1_read.getBandNames())\n",
    "\n",
    "df_s1_read = pd.DataFrame({'Name': name, 'Sensing Mode': sensing_mode,'Product Type': product_type, 'Polarization': polarization ,'Height': height, 'Width': width, 'Available Bands': band_names})\n",
    "display(df_s1_read)\n",
    "\n",
    "# Display quicklook - First image\n",
    "with ZipFile(input_S1_files[0], 'r') as qck_look:\n",
    "    qck_look = qck_look.open(name[0] + '.SAFE/preview/quick-look.png')\n",
    "    img = mpimg.imread(qck_look, format='PNG')\n",
    "    plt.figure(figsize = (15,15))\n",
    "    plt.title('Quicklook visualiton - '+ name[0] + '\\n')\n",
    "    plt.axis('off')\n",
    "    plt.imshow(img);"
   ]
  },
  {
   "cell_type": "markdown",
   "id": "a8f95983-cbca-44e0-a4c0-f510ec8d9227",
   "metadata": {},
   "source": [
    "## 3.2 Subset"
   ]
  },
  {
   "cell_type": "markdown",
   "id": "5eba57d1-965a-4e0f-8b49-7876242f3bb7",
   "metadata": {},
   "source": [
    "Once the product is read, we continue our processing chain by creating a subset of the Sentinel-1 product. It is recommened to run this step to reduce processing time. To define the Area Of Interest (AOI), we are defining pixel coordinates, taking as reference the upper right corner of the raster"
   ]
  },
  {
   "cell_type": "code",
   "execution_count": null,
   "id": "6a96b9b1-00da-4717-a5cf-96dad55a6ffd",
   "metadata": {},
   "outputs": [],
   "source": [
    "# upper right corner\n",
    "x, y, width, height = 12000, 8000, 5500, 5500\n",
    "\n",
    "# Subset Operator - snappy\n",
    "parameters = snappy.HashMap() \n",
    "parameters.put('copyMetadata', True)\n",
    "parameters.put('region', \"%s,%s,%s,%s\" % (x, y, width, height))\n",
    "subset = snappy.GPF.createProduct('Subset', parameters, s1_read)\n",
    "print(list(subset.getBandNames()))\n",
    "\n",
    "# Plot subset (follow VV - VH order)\n",
    "output_bands = ['Amplitude_VV', 'Amplitude_VH']\n",
    "output_view(subset, output_bands, 41, 286, 20, 160)"
   ]
  },
  {
   "cell_type": "markdown",
   "id": "5b28ddd0-9af8-4b21-88ce-fbbc2c2daa43",
   "metadata": {},
   "source": [
    "## 3.3 Apply Orbit File"
   ]
  },
  {
   "cell_type": "markdown",
   "id": "7f4712a8-1e53-46c4-9e79-d76052a34cf1",
   "metadata": {},
   "source": [
    "The orbit state vectors provided in the metadata of a SAR product are generally not accurate and can be refined with the precise orbit files which are available days-to-weeks after the generation of the product. The orbit file provides accurate satellite position and velocity information. Based on this information, the orbit state vectors in the abstract metadata of the product are updated."
   ]
  },
  {
   "cell_type": "code",
   "execution_count": null,
   "id": "fafb41d1-fbf5-404a-aab1-df424c116661",
   "metadata": {},
   "outputs": [],
   "source": [
    "# Apply Orbit File Operator - snappy\n",
    "parameters = snappy.HashMap()\n",
    "parameters.put('Apply-Orbit-File', True)\n",
    "apply_orbit = snappy.GPF.createProduct('Apply-Orbit-File', parameters, subset)\n",
    "print(colored('Orbit updated succesfully', 'green'))"
   ]
  },
  {
   "cell_type": "markdown",
   "id": "adc4665e-bdf9-467a-8537-e7bb9ac5912a",
   "metadata": {},
   "source": [
    "## 3.4 Thermal Noise Removal"
   ]
  },
  {
   "cell_type": "markdown",
   "id": "71261d8d-6662-4248-9fc1-368eece2edff",
   "metadata": {},
   "source": [
    "Thermal noise in SAR imagery is the background energy that is generated by the receiver itself. It skews the radar reflectivity towards higher values and hampers the precision of radar reflectivity estimates. Level-1 products provide a noise LUT for each measurement dataset, provided in linear power, which can be used to remove the noise from the product."
   ]
  },
  {
   "cell_type": "code",
   "execution_count": null,
   "id": "4a423023-9394-4d81-a9d3-64948aa21dee",
   "metadata": {},
   "outputs": [],
   "source": [
    "# Thermal Noise Removal Operator - snappy\n",
    "parameters = snappy.HashMap()\n",
    "parameters.put('removeThermalNoise', True)\n",
    "thermal_noise = snappy.GPF.createProduct('ThermalNoiseRemoval', parameters, apply_orbit)\n",
    "\n",
    "# Plot Thermal Noise Removal (follow VV - VH order)\n",
    "output_bands = ['Intensity_VV', 'Intensity_VH']\n",
    "output_view(thermal_noise, output_bands, 0.02, 99376.52, 0.27, 18471.83)"
   ]
  },
  {
   "cell_type": "markdown",
   "id": "5a7ec6fc-7ac8-4f99-859b-473e4b0b15d1",
   "metadata": {},
   "source": [
    "## 3.5 Radiometric Calibration"
   ]
  },
  {
   "cell_type": "markdown",
   "id": "535a291b-4a19-4da2-bf55-112962dfadb3",
   "metadata": {},
   "source": [
    "The objective of SAR calibration is to provide imagery in which the pixel values can be directly related to the radar backscatter of the scene. Though uncalibrated SAR imagery is sufficient for qualitative use, calibrated SAR images are essential to quantitative use of SAR data. Typical SAR data processing, which produces Level-1 images, does not include radiometric corrections and significant radiometric bias remains. The radiometric correction is necessary for the pixel values to truly represent the radar backscatter of the reflecting surface and therefore for comparison of SAR images acquired with different sensors, or acquired from the same sensor but at different times, in different modes, or processed by different processors."
   ]
  },
  {
   "cell_type": "code",
   "execution_count": null,
   "id": "0f5cc294-2de9-446a-8d48-581224e4e8e4",
   "metadata": {},
   "outputs": [],
   "source": [
    "# Calibration Operator - snappy\n",
    "parameters = snappy.HashMap()\n",
    "parameters.put('outputSigmaBand', True)\n",
    "parameters.put('sourceBands', 'Intensity_VH,Intensity_VV')\n",
    "parameters.put('selectedPolarisations', 'VH,VV')\n",
    "parameters.put('outputImageScaleInDb', False)\n",
    "calibrated = snappy.GPF.createProduct(\"Calibration\", parameters, thermal_noise)\n",
    "\n",
    "# Plot Calibration (follor VV - VH order)\n",
    "output_bands = ['Sigma0_VV', 'Sigma0_VH'] \n",
    "output_view(calibrated, output_bands, 0.00, 0.28, 0.00, 0.05)"
   ]
  },
  {
   "cell_type": "markdown",
   "id": "1f99c1e3-f69a-4036-a503-367e18966347",
   "metadata": {},
   "source": [
    "## 3.6 Speckle Filtering"
   ]
  },
  {
   "cell_type": "markdown",
   "id": "482f71a6-b92d-415e-8c56-922320bd10bc",
   "metadata": {},
   "source": [
    "SAR images have inherent salt and pepper like texturing called speckles which degrade the quality of the image and make interpretation of features more difficult. Speckles are caused by random constructive and destructive interference of the de-phased but coherent return waves scattered by the elementary scatters within each resolution cell. Speckle noise reduction can be applied either by spatial filtering or multilook processing."
   ]
  },
  {
   "cell_type": "code",
   "execution_count": null,
   "id": "1c87c1a7-170e-4a75-b6c7-2592c60db250",
   "metadata": {},
   "outputs": [],
   "source": [
    "# Speckle Filtering Operator - snappy\n",
    "parameters = snappy.HashMap()\n",
    "parameters.put('filter', 'Lee')\n",
    "parameters.put('filterSizeX', 5)\n",
    "parameters.put('filterSizeY', 5)\n",
    "speckle = snappy.GPF.createProduct('Speckle-Filter', parameters, calibrated)\n",
    "\n",
    "# Plot speckle filter (follow VV - VH order)\n",
    "output_bands = ['Sigma0_VV', 'Sigma0_VH'] \n",
    "output_view(speckle, output_bands, 0.00, 0.28, 0.00, 0.05)"
   ]
  },
  {
   "cell_type": "markdown",
   "id": "3434fb59-e645-4c77-9d53-f176ff97cfd4",
   "metadata": {},
   "source": [
    "## 3.7 Terrain Correction"
   ]
  },
  {
   "cell_type": "markdown",
   "id": "e63f377a-1ba3-4e6c-85aa-0373a0bc310a",
   "metadata": {},
   "source": [
    "Due to topographical variations of a scene and the tilt of the satellite sensor, distances can be distorted in the SAR images. Image data not directly at the sensor’s Nadir location will have some distortion. Terrain corrections are intended to compensate for these distortions so that the geometric representation of the image will be as close as possible to the real world."
   ]
  },
  {
   "cell_type": "code",
   "execution_count": null,
   "id": "90283fb2-552b-42b5-87cf-831dcace0a9c",
   "metadata": {},
   "outputs": [],
   "source": [
    "#Get proj information from .xml file (graph) that includes Range Doppler Terrain Correction with UTM/Automtic parameter\n",
    "proj = '''PROJCS[\"UTM Zone 35 / World Geodetic System 1984\", \n",
    "  GEOGCS[\"World Geodetic System 1984\", \n",
    "    DATUM[\"World Geodetic System 1984\", \n",
    "      SPHEROID[\"WGS 84\", 6378137.0, 298.257223563, AUTHORITY[\"EPSG\",\"7030\"]], \n",
    "      AUTHORITY[\"EPSG\",\"6326\"]], \n",
    "    PRIMEM[\"Greenwich\", 0.0, AUTHORITY[\"EPSG\",\"8901\"]], \n",
    "    UNIT[\"degree\", 0.017453292519943295], \n",
    "    AXIS[\"Geodetic longitude\", EAST], \n",
    "    AXIS[\"Geodetic latitude\", NORTH]], \n",
    "  PROJECTION[\"Transverse_Mercator\"], \n",
    "  PARAMETER[\"central_meridian\", 27.0], \n",
    "  PARAMETER[\"latitude_of_origin\", 0.0], \n",
    "  PARAMETER[\"scale_factor\", 0.9996], \n",
    "  PARAMETER[\"false_easting\", 500000.0], \n",
    "  PARAMETER[\"false_northing\", 0.0], \n",
    "  UNIT[\"m\", 1.0], \n",
    "  AXIS[\"Easting\", EAST], \n",
    "  AXIS[\"Northing\", NORTH]]''' \n",
    "\n",
    "# Terrain-Correction Operator - snappy\n",
    "parameters = snappy.HashMap()\n",
    "parameters.put('demName', 'SRTM 3Sec')\n",
    "parameters.put('imgResamplingMethod', 'BILINEAR_INTERPOLATION')\n",
    "parameters.put('pixelSpacingInMeter', 10.0)\n",
    "parameters.put('mapProjection', proj)  \n",
    "parameters.put('nodataValueAtSea', False) # do not mask areas without elevation (WATER AREAS!)\n",
    "parameters.put('saveSelectedSourceBand', True)\n",
    "terrain_correction = snappy.GPF.createProduct('Terrain-Correction', parameters, speckle)\n",
    "\n",
    "# Plot terrain correction (follow VV - VH order)\n",
    "output_bands = ['Sigma0_VV', 'Sigma0_VH'] # in this step Amplitude bands are lost?\n",
    "output_view(terrain_correction, output_bands,0.00, 0.49, 0.00, 0.04)"
   ]
  },
  {
   "cell_type": "markdown",
   "id": "d201437a-021f-4af8-bee7-335ffbe6a975",
   "metadata": {},
   "source": [
    "## 3.8 Write"
   ]
  },
  {
   "cell_type": "markdown",
   "id": "fd9aca88-686d-4309-b76c-7c10760b38fa",
   "metadata": {},
   "source": [
    "Once we have completed all preprocessing steps we can write our SAR product to file. In this occasion we will chooose the GeoTIFF format."
   ]
  },
  {
   "cell_type": "code",
   "execution_count": null,
   "id": "bae277b8-6ece-49d5-af86-c8436c32c6fe",
   "metadata": {},
   "outputs": [],
   "source": [
    "# Set output path and name\n",
    "outpath_name = '/Users/..../output_data/20200321_Orb_Thm_Cal_Spk_TC'\n",
    "\n",
    "# Write Operator - snappy\n",
    "snappy.ProductIO.writeProduct(terrain_correction, outpath_name, 'GeoTIFF')\n",
    "print(colored('Product succesfully saved in:', 'green'), outpath_name)"
   ]
  }
 ],
 "metadata": {
  "kernelspec": {
   "display_name": "Python 3",
   "language": "python",
   "name": "python3"
  },
  "language_info": {
   "codemirror_mode": {
    "name": "ipython",
    "version": 3
   },
   "file_extension": ".py",
   "mimetype": "text/x-python",
   "name": "python",
   "nbconvert_exporter": "python",
   "pygments_lexer": "ipython3",
   "version": "3.6.13"
  }
 },
 "nbformat": 4,
 "nbformat_minor": 5
}
